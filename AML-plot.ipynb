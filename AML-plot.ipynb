{
 "cells": [
  {
   "cell_type": "code",
   "execution_count": 1,
   "metadata": {
    "collapsed": true
   },
   "outputs": [],
   "source": [
    "%matplotlib inline\n",
    "import matplotlib.pyplot as plt\n",
    "import numpy\n",
    "import math"
   ]
  },
  {
   "cell_type": "code",
   "execution_count": 2,
   "metadata": {
    "collapsed": true
   },
   "outputs": [],
   "source": [
    "def err_class(s, y=+1):\n",
    "    p = +1 if s >= 0 else -1\n",
    "    if y != p:\n",
    "        return +1\n",
    "    else:\n",
    "        return 0"
   ]
  },
  {
   "cell_type": "code",
   "execution_count": 3,
   "metadata": {
    "collapsed": true
   },
   "outputs": [],
   "source": [
    "def err_square(s, y=+1):\n",
    "    return (y-s)**2"
   ]
  },
  {
   "cell_type": "code",
   "execution_count": 4,
   "metadata": {
    "collapsed": true
   },
   "outputs": [],
   "source": [
    "def err_log(s, y=+1):\n",
    "    return math.log(1 + math.exp(-y*s)) / math.log(2)"
   ]
  },
  {
   "cell_type": "code",
   "execution_count": 5,
   "metadata": {},
   "outputs": [],
   "source": [
    "def plot_errs():\n",
    "    ss = numpy.linspace(-1.5, +1.5, num=100)\n",
    "    err_classes = [err_class(s) for s in ss]\n",
    "    err_squares = [err_square(s) for s in ss]\n",
    "    err_logs = [err_log(s) for s in ss]\n",
    "    plt.plot(ss, err_classes, c='red', label='class$')\n",
    "    plt.plot(ss, err_squares, c='blue', label='sq$')\n",
    "    plt.plot(ss, err_logs, c='green', label='log$')\n",
    "    plt.legend()\n",
    "    plt.xlabel('Signal')\n",
    "    plt.ylabel('Error')\n",
    "    plt.title('Error Measures v.s. Signal')\n",
    "    plt.show()"
   ]
  },
  {
   "cell_type": "code",
   "execution_count": 6,
   "metadata": {},
   "outputs": [
    {
     "data": {
      "image/png": "[encoded data removed]",
      "text/plain": [
       "<matplotlib.figure.Figure at 0x7fa0f713bb38>"
      ]
     },
     "metadata": {},
     "output_type": "display_data"
    }
   ],
   "source": [
    "plot_errs()"
   ]
  },
  {
   "cell_type": "code",
   "execution_count": null,
   "metadata": {
    "collapsed": true
   },
   "outputs": [],
   "source": []
  }
 ],
 "metadata": {
  "kernelspec": {
   "display_name": "python (docqa)",
   "language": "python",
   "name": "docqa"
  },
  "language_info": {
   "codemirror_mode": {
    "name": "ipython",
    "version": 3
   },
   "file_extension": ".py",
   "mimetype": "text/x-python",
   "name": "python",
   "nbconvert_exporter": "python",
   "pygments_lexer": "ipython3",
   "version": "3.6.1"
  }
 },
 "nbformat": 4,
 "nbformat_minor": 2
}
